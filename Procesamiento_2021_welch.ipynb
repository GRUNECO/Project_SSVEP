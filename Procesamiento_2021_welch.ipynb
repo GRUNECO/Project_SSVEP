{
  "nbformat": 4,
  "nbformat_minor": 0,
  "metadata": {
    "colab": {
      "name": "Procesamiento_2021_welch.ipynb",
      "provenance": [],
      "collapsed_sections": [],
      "include_colab_link": true
    },
    "kernelspec": {
      "display_name": "Python 3",
      "name": "python3"
    }
  },
  "cells": [
    {
      "cell_type": "markdown",
      "metadata": {
        "id": "view-in-github",
        "colab_type": "text"
      },
      "source": [
        "<a href=\"https://colab.research.google.com/github/vhenaoi/ProyectoSSVEP/blob/main/Procesamiento_2021_welch.ipynb\" target=\"_parent\"><img src=\"https://colab.research.google.com/assets/colab-badge.svg\" alt=\"Open In Colab\"/></a>"
      ]
    },
    {
      "cell_type": "markdown",
      "metadata": {
        "id": "0FaUrrC--TU9"
      },
      "source": [
        "# **Procesamiento de registros correspondientes al 2021**"
      ]
    },
    {
      "cell_type": "markdown",
      "metadata": {
        "id": "kyGJmMnyFc1n"
      },
      "source": [
        "### **Elementos necesarios para la importación**\n",
        "---"
      ]
    },
    {
      "cell_type": "markdown",
      "metadata": {
        "id": "cJsH0jWDS-mA"
      },
      "source": [
        "Montaje del drive personal\n",
        "\n"
      ]
    },
    {
      "cell_type": "code",
      "metadata": {
        "colab": {
          "base_uri": "https://localhost:8080/"
        },
        "id": "TRrFzcdWScBt",
        "outputId": "22b391d1-5c03-4144-fe57-64a357532071"
      },
      "source": [
        "from google.colab import drive\n",
        "drive.mount('/content/drive')"
      ],
      "execution_count": null,
      "outputs": [
        {
          "output_type": "stream",
          "text": [
            "Mounted at /content/drive\n"
          ],
          "name": "stdout"
        }
      ]
    },
    {
      "cell_type": "markdown",
      "metadata": {
        "id": "OJ9blgvtS9o0"
      },
      "source": [
        "Importación de librerias necesarias para el manejo de la señal"
      ]
    },
    {
      "cell_type": "code",
      "metadata": {
        "id": "quNgkJHjS9ck"
      },
      "source": [
        "import numpy as np\n",
        "import scipy.signal as signal\n",
        "import matplotlib.pyplot as plt\n",
        "import pandas as pd \n",
        "import os\n",
        "from os import listdir\n",
        "from os.path import isfile, join"
      ],
      "execution_count": null,
      "outputs": []
    },
    {
      "cell_type": "markdown",
      "metadata": {
        "id": "-Dqyvu6v_SNE"
      },
      "source": [
        "Se descomprime un paquete de filtros alojado en el drive personal"
      ]
    },
    {
      "cell_type": "code",
      "metadata": {
        "colab": {
          "base_uri": "https://localhost:8080/"
        },
        "id": "Z8WD88Je7-mm",
        "outputId": "3749305a-1bd5-4860-f4cb-328ef0255355"
      },
      "source": [
        "!unzip '/content/drive/MyDrive/Visión Sábados/Codigos/Librerias/librerias.zip'"
      ],
      "execution_count": null,
      "outputs": [
        {
          "output_type": "stream",
          "text": [
            "Archive:  /content/drive/MyDrive/Visión Sábados/Codigos/Librerias/librerias.zip\n",
            "  inflating: linearFIR.py            \n",
            "   creating: __MACOSX/\n",
            "  inflating: __MACOSX/._linearFIR.py  \n",
            "   creating: chronux/\n",
            "   creating: chronux/__pycache__/\n",
            "  inflating: chronux/__pycache__/qeeg_psd_chronux.cpython-37.pyc  \n",
            "   creating: __MACOSX/chronux/\n",
            "   creating: __MACOSX/chronux/__pycache__/\n",
            "  inflating: __MACOSX/chronux/__pycache__/._qeeg_psd_chronux.cpython-37.pyc  \n",
            "  inflating: chronux/__pycache__/mtspectrumc.cpython-37.pyc  \n",
            "  inflating: __MACOSX/chronux/__pycache__/._mtspectrumc.cpython-37.pyc  \n",
            "  inflating: __MACOSX/chronux/.___pycache__  \n",
            "  inflating: chronux/README.md       \n",
            "  inflating: __MACOSX/chronux/._README.md  \n",
            "  inflating: chronux/requires.txt    \n",
            "  inflating: __MACOSX/chronux/._requires.txt  \n",
            "  inflating: chronux/implementation.py  \n",
            "  inflating: __MACOSX/chronux/._implementation.py  \n",
            "  inflating: chronux/qeeg_psd_chronux.py  \n",
            "  inflating: __MACOSX/chronux/._qeeg_psd_chronux.py  \n",
            "  inflating: chronux/mtspectrumc.py  \n",
            "  inflating: __MACOSX/chronux/._mtspectrumc.py  \n",
            "  inflating: __MACOSX/._chronux      \n",
            "  inflating: wavelet_filtering.py    \n",
            "  inflating: __MACOSX/._wavelet_filtering.py  \n"
          ],
          "name": "stdout"
        }
      ]
    },
    {
      "cell_type": "markdown",
      "metadata": {
        "id": "nWmUNRmG_pzT"
      },
      "source": [
        "Se importan las librerias que estan contenidas en el archivo .zip"
      ]
    },
    {
      "cell_type": "code",
      "metadata": {
        "colab": {
          "base_uri": "https://localhost:8080/"
        },
        "id": "XRpDIwT08DXM",
        "outputId": "a903331f-9db1-42e2-a409-e60692aebdae"
      },
      "source": [
        "from linearFIR import filter_design, mfreqz\n",
        "from wavelet_filtering import wnoisest, wthresh, thselect\n",
        "from chronux.qeeg_psd_chronux import qeeg_psd_chronux, mtspectrumc\n",
        "!pip install PyWavelets\n",
        "import pywt"
      ],
      "execution_count": null,
      "outputs": [
        {
          "output_type": "stream",
          "text": [
            "Requirement already satisfied: PyWavelets in /usr/local/lib/python3.7/dist-packages (1.1.1)\n",
            "Requirement already satisfied: numpy>=1.13.3 in /usr/local/lib/python3.7/dist-packages (from PyWavelets) (1.19.5)\n"
          ],
          "name": "stdout"
        }
      ]
    },
    {
      "cell_type": "markdown",
      "metadata": {
        "id": "lWAOaL6w_BGP"
      },
      "source": [
        "Ruta donde se encuentran las señales que se importarán *path* y donde serán guardadas"
      ]
    },
    {
      "cell_type": "code",
      "metadata": {
        "id": "Vm9CCpa0XmcC"
      },
      "source": [
        "path = r'/content/drive/MyDrive/Visión Sábados/Base_de_datos/2021'"
      ],
      "execution_count": null,
      "outputs": []
    },
    {
      "cell_type": "markdown",
      "metadata": {
        "id": "CW-UNnHSAWo0"
      },
      "source": [
        "Se crean los nombres de los archivos y se disenan los filtros lineales"
      ]
    },
    {
      "cell_type": "code",
      "metadata": {
        "colab": {
          "base_uri": "https://localhost:8080/",
          "height": 717
        },
        "id": "ZOwcky_nAGue",
        "outputId": "7559d8f4-3ee9-438e-92c6-e98789e4d6a7"
      },
      "source": [
        "electrodes = ['FCz','Oz','O1','PO7','O2','PO8','PO3','PO4'] # Electrodes used in the recording\n",
        "\n",
        "fs = 250 # Sampling frecuency\n",
        "\n",
        "low_fre = 3 # Low cut frecuency\n",
        "\n",
        "high_fre = 45 # High cut frecuency\n",
        "\n",
        "num_logmars = 7 # Number of logmars evaluated\n",
        "\n",
        "# Filters design\n",
        "\n",
        "order, highpass = filter_design(fs, locutoff = low_fre, hicutoff = 0, revfilt = 1)\n",
        "\n",
        "mfreqz(highpass,1,order, fs/2)\n",
        "\n",
        "order, lowpass = filter_design(fs, locutoff = 0, hicutoff = high_fre, revfilt = 0)\n",
        "\n",
        "mfreqz(lowpass,1,order, fs/2)\n",
        "\n",
        "\n"
      ],
      "execution_count": null,
      "outputs": [
        {
          "output_type": "stream",
          "text": [
            "2.0\n",
            "pop_eegfiltnew() - cutoff frequency(ies) (-6 dB): [2.] Hz\n",
            "\n"
          ],
          "name": "stdout"
        },
        {
          "output_type": "stream",
          "text": [
            "/content/linearFIR.py:73: RuntimeWarning: divide by zero encountered in log10\n",
            "  h_dB = 20 * np.log10 (abs(h));\n"
          ],
          "name": "stderr"
        },
        {
          "output_type": "display_data",
          "data": {
            "image/png": "[encoded data removed]",
            "text/plain": [
              "<Figure size 432x288 with 3 Axes>"
            ]
          },
          "metadata": {
            "needs_background": "light"
          }
        },
        {
          "output_type": "stream",
          "text": [
            "11.25\n",
            "pop_eegfiltnew() - cutoff frequency(ies) (-6 dB): [50.625] Hz\n",
            "\n"
          ],
          "name": "stdout"
        },
        {
          "output_type": "display_data",
          "data": {
            "image/png": "[encoded data removed]",
            "text/plain": [
              "<Figure size 432x288 with 3 Axes>"
            ]
          },
          "metadata": {
            "needs_background": "light"
          }
        }
      ]
    },
    {
      "cell_type": "code",
      "metadata": {
        "id": "HRPo3KDncD35"
      },
      "source": [
        "def scalogram(signal, sampling_frequency, frequency_band, path):\n",
        "\n",
        "  sampling_period =  1/sampling_frequency\n",
        "  Frequency_Band = frequency_band #Corresponde a la banda de frecuencia a analizar [4, 13]\n",
        "\n",
        "  # Métodos de obtener las escalas para el Complex Morlet Wavelet  \n",
        "  # Método 1:\n",
        "  # Determinar las frecuencias respectivas para una escalas definidas\n",
        "  scales = np.arange(1, 250)\n",
        "  frequencies = pywt.scale2frequency('cmor1.0-1.0', scales)/sampling_period\n",
        "  # Extraer las escalas correspondientes a la banda de frecuencia a analizar\n",
        "  scales = scales[np.where(frequencies >= Frequency_Band[0]) and np.where(frequencies <= Frequency_Band[1])] \n",
        "\n",
        "  points = signal.shape[0]\n",
        "\n",
        "  #%%\n",
        "  # Obtener el tiempo correspondiente a una epoca de la señal (en segundos)\n",
        "  time_epoch = sampling_period*points\n",
        "\n",
        "  # Analizar una epoca de un montaje (con las escalas del método 1)\n",
        "  # Obtener el vector de tiempo adecuado para una epoca de un montaje de la señal\n",
        "  time = np.arange(0, time_epoch, sampling_period)\n",
        "  # Para la primera epoca del segundo montaje calcular la transformada continua de Wavelet, usando Complex Morlet Wavelet\n",
        "\n",
        "  [coef, freqs] = pywt.cwt(signal, scales, 'cmor1.0-1.0', sampling_period)\n",
        "  # Calcular la potencia \n",
        "  power = (np.abs(coef)) ** 2\n",
        "  # Graficar el escalograma obtenido del análisis tiempo frecuencia\n",
        "  f, ax = plt.subplots(figsize=(15, 10))\n",
        "  scalogram = ax.contourf(time,\n",
        "                  freqs,\n",
        "                  power,\n",
        "                  10, # Especificar 20 divisiones en las escalas de color \n",
        "                  extend='both')\n",
        "  ax.set_ylim(np.amin(freqs), np.amax(freqs))\n",
        "  ax.set_ylabel('frequency [Hz]')\n",
        "  ax.set_xlabel('Time [s]')\n",
        "  cbar = plt.colorbar(scalogram)\n",
        "\n",
        "  # CAUTION! this code Always overwrites the plots\n",
        "  \n",
        "  #plt.savefig(path + '_spectrum.png')\n",
        "  #plt.show()\n",
        " "
      ],
      "execution_count": null,
      "outputs": []
    },
    {
      "cell_type": "markdown",
      "metadata": {
        "id": "PVsA8B5GH4Ep"
      },
      "source": [
        "### **Función para la carga de la señal**\n",
        "\n",
        "---"
      ]
    },
    {
      "cell_type": "code",
      "metadata": {
        "id": "dH_m94NyGQKa"
      },
      "source": [
        "def signal_upload(signal_path, subject, eye, electrodes):\n",
        "\n",
        "  '''\n",
        "  Function created to upload a signal from a csv file to the enviroment of \n",
        "  work, saving it in a pandas DataFrame and then in a numpy array. In this \n",
        "  function, to all the channels is substracted Fcz channel that works as \n",
        "  a reference. Then the raw signal is plotted.\n",
        "\n",
        "  Input: signal_path --> str (path where the csv file is located with the data)\n",
        "\n",
        "         subject --> str (code of identification of the subject)\n",
        "\n",
        "         eye --> str (signal that will be uploaded ej. both_eyes, left or right)\n",
        "\n",
        "         electrodes --> list (contains the names of the electrodes used in the recording)\n",
        "         \n",
        "\n",
        "  Output: vision_signal --> Numpy array (array with the uploaded signal)\n",
        "\n",
        "          signals_marks --> Numpy array (array where the marks are located)\n",
        "  '''\n",
        "\n",
        "  vision_signal = pd.read_csv(signal_path, index_col=False, header = None, sep = ';')\n",
        "\n",
        "  signal_marks = vision_signal.iloc[:,8].to_numpy()\n",
        "\n",
        "  vision_signal = vision_signal.iloc[:,0:8]\n",
        "\n",
        "  vision_signal = vision_signal.to_numpy()\n",
        "\n",
        "  OpenBCI_factor = ((4500000)/24/(2**23-1)) #Factor reported in OpenBCI documentation\n",
        "\n",
        "  vision_signal = vision_signal*OpenBCI_factor\n",
        "\n",
        "  vision_signal = vision_signal - np.repeat(vision_signal[:,0,np.newaxis],8,1)\n",
        "\n",
        "  vision_signal = vision_signal[:,1:]\n",
        "\n",
        "  num_channels = vision_signal.shape[1]\n",
        "\n",
        "  plt.figure(figsize=(12,5))\n",
        "\n",
        "  for c in range(num_channels):\n",
        "\n",
        "    plt.title(\" Raw signal of \" + subject +\" \"+ eye )\n",
        "\n",
        "    plt.plot(vision_signal[:,c] + 1*c,label = electrodes[c+1])\n",
        "\n",
        "    plt.grid()\n",
        "\n",
        "    plt.legend(loc = 4)\n",
        "\n",
        "  plt.show()\n",
        "\n",
        "  return vision_signal, signal_marks"
      ],
      "execution_count": null,
      "outputs": []
    },
    {
      "cell_type": "markdown",
      "metadata": {
        "id": "5KK5AKzlH8cw"
      },
      "source": [
        "### **Función para realiza el filtrado de la señal y visualización**\n",
        "\n",
        "---"
      ]
    },
    {
      "cell_type": "code",
      "metadata": {
        "id": "VlO_m20eH_Sl"
      },
      "source": [
        "def signal_filtering(uploaded_signal, subject, eye, electrodes, highpass, lowpass):\n",
        "\n",
        "  '''\n",
        "  Function that filters the signal. First, linear tendences are eliminated. Then,\n",
        "  using designed linear filters (highpass and lowpass) the function defines\n",
        "  a range of frecuencies. Last, using a non-linear filter (wavelet) the signal\n",
        "  is filtrated again and plots the result.\n",
        "\n",
        "  Inputs: uploaded_signal --> Numpy array (signal to be filtered)\n",
        "\n",
        "          subject --> str (code of identification of the subject)\n",
        "\n",
        "          eye --> str (signal that will be uploaded ej. both_eyes, left or right)\n",
        "\n",
        "          electrodes --> list (contains the names of the electrodes used in the recording)\n",
        "\n",
        "          highpass --> Numpy array (highpass filter)\n",
        "\n",
        "          lowpass --> Numpy array (lowpass filter)\n",
        "\n",
        "\n",
        "  Output: filtered signal --> Numpy array (resulting signal of the filtering process)\n",
        "  '''\n",
        "\n",
        "\n",
        "  vision_signal = signal.detrend(uploaded_signal, axis=0, type='linear')\n",
        "\n",
        "  num_channels = vision_signal.shape[1]\n",
        "\n",
        "  filtered_signal = np.zeros((len(vision_signal), num_channels))\n",
        "\n",
        "  for c in range(num_channels):\n",
        "\n",
        "    LL_ind = int(np.floor(np.log2(vision_signal[:,c].shape[0])))\n",
        "\n",
        "    coeff_ind = pywt.wavedec(vision_signal[:,c], 'db6', level=8)\n",
        "\n",
        "    thr = thselect(coeff_ind)\n",
        "\n",
        "    s = wnoisest(coeff_ind)\n",
        "\n",
        "    coeff_t = wthresh(coeff_ind,thr,s)\n",
        "\n",
        "    x_rec = pywt.waverec(coeff_t, 'db6')\n",
        "\n",
        "    resta = vision_signal[:,c] - x_rec[:len(vision_signal)]\n",
        "\n",
        "    senal_w_hp = signal.filtfilt(highpass, 1, resta)\n",
        "\n",
        "    senal_filt = signal.filtfilt(lowpass, 1, senal_w_hp)\n",
        "\n",
        "    filtered_signal[:,c] = senal_filt\n",
        "\n",
        "  plt.figure(figsize=(12,5))\n",
        "\n",
        "  for c in range(num_channels):\n",
        "\n",
        "    plt.title(\" Filtered signal of \"+ subject + \" \" + eye)\n",
        "\n",
        "    plt.plot(filtered_signal[:,c] + 100*c,label = electrodes[c+1])\n",
        "\n",
        "    plt.legend(loc = 4)\n",
        "\n",
        "    plt.grid()\n",
        "\n",
        "  plt.show()\n",
        "\n",
        "  return filtered_signal"
      ],
      "execution_count": null,
      "outputs": []
    },
    {
      "cell_type": "markdown",
      "metadata": {
        "id": "-phh0AMsK1YX"
      },
      "source": [
        "### **Función para visualización del periodograma y ejecución del escalograma (visualización de periodograma y espectro)**\n",
        "\n",
        "---"
      ]
    },
    {
      "cell_type": "code",
      "metadata": {
        "id": "cTMb3WL9K9qW"
      },
      "source": [
        "def periodogram(signal_filtered, marks, num_logmars, sampling_frecuency, subject, eye, signal_path):\n",
        "\n",
        "  '''\n",
        "  Funtion to obtain the periodogram of each logmar for each signal using Welch\n",
        "  technique, then, it is plotted and saved.\n",
        "\n",
        "  Inputs: signal_filtered --> Numpy array (signal to be used to find the periodogram)\n",
        "\n",
        "          marks --> Numpy array (array with the same length of the signal that\n",
        "                    contains the marks)\n",
        "\n",
        "          num_logmars --> int (talking about visual acuity, the number of logmar\n",
        "                                that had been evaluated in the recording ej. 7)\n",
        "\n",
        "          sampling_frecuency --> int (sampling frecuency of the EEG recorder)\n",
        "\n",
        "          subject --> str (code of identification of the subject)\n",
        "\n",
        "          eye --> str (signal that will be uploaded ej. both_eyes, left or right)\n",
        "\n",
        "          signal_path --> str (path where the plots will be saved)\n",
        "\n",
        "  '''\n",
        "  path_save = signal_path[0:len(signal_path)-4]\n",
        "\n",
        "  fs = sampling_frecuency\n",
        "\n",
        "  SNR_counter = 0 # Counter for signals that have SNR > 1\n",
        "\n",
        "  harmonics_SNRCounter = 0 # Counter for signals that have SNR > 1 in the first harmonic of the stimulation frequency\n",
        "\n",
        "  SNR_subject = []\n",
        "\n",
        "  if not os.path.exists(path_save):\n",
        "\n",
        "    os.makedirs(path_save)\n",
        "\n",
        "  index = np.where( marks != 0.0)\n",
        "\n",
        "  mark = index[0].tolist()\n",
        "\n",
        "  if mark:\n",
        "\n",
        "    for i in range(len(mark)-1):\n",
        "\n",
        "      f, Pxx = signal.welch( signal_filtered[mark[6]:mark[7],0], sampling_frecuency, nperseg = 2 * sampling_frecuency, noverlap = sampling_frecuency, nfft=None, return_onesided=True)\n",
        "\n",
        "      if '5' in eye:\n",
        "\n",
        "        stimulation_freq = 5\n",
        "\n",
        "      if '6' in eye:\n",
        "\n",
        "        stimulation_freq = 6\n",
        "          \n",
        "      prom = ( Pxx[(2*stimulation_freq)-1] + Pxx[(2*stimulation_freq+1)] )/2\n",
        "\n",
        "      harmonic_prom = ( Pxx[(4*stimulation_freq)-1] + Pxx[(4*stimulation_freq+1)] )/2\n",
        "\n",
        "      SNR = Pxx[(2*stimulation_freq)] / prom\n",
        "\n",
        "      harmonic_SNR = Pxx[(4*stimulation_freq)] / harmonic_prom\n",
        "\n",
        "      SNR_subject.append(SNR)\n",
        "\n",
        "      if SNR > 1:\n",
        "\n",
        "        SNR_counter += 1\n",
        "\n",
        "        if harmonic_SNR > 1:\n",
        "\n",
        "          harmonics_SNRCounter += 1\n",
        "\n",
        "      plt.title('Signal_' + subject + '_' + acuity_signals + ' ' + 'logmar ' + str(i+1))\n",
        "\n",
        "      plt.stem(f,Pxx)\n",
        "\n",
        "      plt.xticks(range(20))\n",
        "\n",
        "      plt.xlim([0,14])\n",
        "\n",
        "      plt.grid()\n",
        "\n",
        "      # CAUTION! this code Always overwrites the plots\n",
        "\n",
        "      logmar_path = os.path.join(path_save,'logmar_' + str(i+1))\n",
        "\n",
        "      plt.savefig(logmar_path  + '.png')\n",
        "\n",
        "      scalogram(filtered_signal[i*1000:(i+1)*1000,0], fs, [0, 10], logmar_path)\n",
        "\n",
        "    plt.show()\n",
        "\n",
        "  else:\n",
        "\n",
        "    SNR = np.nan\n",
        "\n",
        "    SNR_subject.append(SNR)\n",
        "\n",
        "  return SNR_counter, harmonics_SNRCounter, SNR_subject\n",
        "\n",
        "\n",
        "  "
      ],
      "execution_count": null,
      "outputs": []
    },
    {
      "cell_type": "markdown",
      "metadata": {
        "id": "AotsMmOLMmX8"
      },
      "source": [
        "### **Búsqueda de señales en el directorio**\n",
        "---"
      ]
    },
    {
      "cell_type": "code",
      "metadata": {
        "id": "fYZo1CK-Mlpc",
        "colab": {
          "base_uri": "https://localhost:8080/"
        },
        "outputId": "f46144ca-346d-4ab1-94b0-3715d269bf29"
      },
      "source": [
        "signals_WSNR = 0\n",
        "\n",
        "signals_WHarmonic_SNR = 0\n",
        "\n",
        "SNR_list = []\n",
        "\n",
        "for group in os.listdir(path):\n",
        "\n",
        "  for subject in os.listdir(os.path.join(path, group)):\n",
        "\n",
        "      for acuity_signals in os.listdir(os.path.join(path, group, subject)):\n",
        "\n",
        "        if os.path.isfile(os.path.join(path, group, subject, acuity_signals)):\n",
        "\n",
        "          signal_path = os.path.join(path, group, subject, acuity_signals)\n",
        "\n",
        "          signal_uploaded, marks = signal_upload(signal_path, subject, acuity_signals, electrodes)\n",
        "\n",
        "          filtered_signal = signal_filtering(signal_uploaded, subject, acuity_signals, electrodes, highpass, lowpass)\n",
        "\n",
        "          signals_WSNRa, signals_WHarmonic_SNRa, SNR_subjecta = periodogram(filtered_signal, marks, num_logmars, fs, subject, acuity_signals, signal_path)\n",
        "\n",
        "          signals_WSNR = signals_WSNR + signals_WSNRa\n",
        "\n",
        "          signals_WHarmonic_SNR = signals_WHarmonic_SNR + signals_WHarmonic_SNRa\n",
        "\n",
        "          SNR_list +=  SNR_subjecta\n",
        "\n",
        "\n",
        "print('señales con el pico en la frecuencia de interes: ', signals_WSNR,'señales con el pico en el harmonico: ', signals_WHarmonic_SNR)\n"
      ],
      "execution_count": null,
      "outputs": [
        {
          "output_type": "stream",
          "text": [
            "P1_14-07-2021\n",
            "1\n",
            "P1_14-07-2021\n",
            "2\n",
            "P2_21-07-2021\n",
            "3\n",
            "P3_22-07-2021\n",
            "4\n",
            "P4_22-07-2021\n",
            "5\n",
            "P5_24-07-2021\n",
            "6\n",
            "P5_24-07-2021\n",
            "7\n",
            "P6_24-07-2021\n",
            "8\n",
            "P6_24-07-2021\n",
            "9\n",
            "P7_26-07-2021\n",
            "10\n",
            "señales con el pico en la frecuencia de interes:  9 señales con el pico en el harmonico:  9\n",
            "promedio SNR: 1.2406775254318654\n",
            "STD SNR: 0.19511681667502637\n"
          ],
          "name": "stdout"
        }
      ]
    }
  ]
}